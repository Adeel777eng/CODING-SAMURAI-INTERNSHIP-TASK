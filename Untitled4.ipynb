{
  "nbformat": 4,
  "nbformat_minor": 0,
  "metadata": {
    "colab": {
      "provenance": [],
      "authorship_tag": "ABX9TyMXR91V2U1J3qNnFDWOLO2T",
      "include_colab_link": true
    },
    "kernelspec": {
      "name": "python3",
      "display_name": "Python 3"
    },
    "language_info": {
      "name": "python"
    }
  },
  "cells": [
    {
      "cell_type": "markdown",
      "metadata": {
        "id": "view-in-github",
        "colab_type": "text"
      },
      "source": [
        "<a href=\"https://colab.research.google.com/github/Adeel777eng/CODING-SAMURAI-INTERNSHIP-TASK/blob/main/Untitled4.ipynb\" target=\"_parent\"><img src=\"https://colab.research.google.com/assets/colab-badge.svg\" alt=\"Open In Colab\"/></a>"
      ]
    },
    {
      "cell_type": "code",
      "execution_count": null,
      "metadata": {
        "colab": {
          "base_uri": "https://localhost:8080/"
        },
        "id": "XT3OQKjpn3Xw",
        "outputId": "b654b88e-725b-4778-e990-561e21d7bd8f"
      },
      "outputs": [
        {
          "output_type": "stream",
          "name": "stdout",
          "text": [
            "🤖 RuleBot: Hello! I’m a simple chatbot. Type 'bye' to exit.\n"
          ]
        }
      ],
      "source": [
        "import random\n",
        "\n",
        "# Predefined user input patterns and responses\n",
        "responses = {\n",
        "    \"hello\": [\"Hi there!\", \"Hello!\", \"Hey!\", \"Hi! How can I help you?\"],\n",
        "    \"how are you\": [\"I'm just a bunch of code, but thanks for asking!\", \"Doing great! How about you?\"],\n",
        "    \"what is your name\": [\"I'm RuleBot, your friendly chatbot!\", \"They call me RuleBot. 😊\"],\n",
        "    \"bye\": [\"Goodbye!\", \"See you later!\", \"Bye! Take care!\"],\n",
        "    \"thank you\": [\"You're welcome!\", \"Anytime!\", \"Glad to help!\"],\n",
        "    \"help\": [\"You can try asking: 'hello', 'how are you', 'what is your name', or 'bye'.\"]\n",
        "}\n",
        "\n",
        "def get_response(user_input):\n",
        "    user_input = user_input.lower().strip()\n",
        "\n",
        "    # Check for exact matches in the response dictionary\n",
        "    for key in responses:\n",
        "        if key in user_input:\n",
        "            return random.choice(responses[key])\n",
        "\n",
        "    # Fallback for unknown inputs\n",
        "    return \"Sorry, I didn't understand that. Try asking something else!\"\n",
        "\n",
        "# Main chatbot loop\n",
        "def run_chatbot():\n",
        "    print(\"🤖 RuleBot: Hello! I’m a simple chatbot. Type 'bye' to exit.\")\n",
        "\n",
        "    while True:\n",
        "        user_input = input(\"You: \")\n",
        "\n",
        "        if user_input.lower() == \"bye\":\n",
        "            print(\"🤖 RuleBot:\", random.choice(responses[\"bye\"]))\n",
        "            break\n",
        "\n",
        "        reply = get_response(user_input)\n",
        "        print(\"🤖 RuleBot:\", reply)\n",
        "\n",
        "# Run the chatbot\n",
        "if __name__ == \"__main__\":\n",
        "    run_chatbot()"
      ]
    }
  ]
}